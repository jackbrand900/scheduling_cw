{
 "cells": [
  {
   "cell_type": "code",
   "execution_count": 1,
   "metadata": {},
   "outputs": [],
   "source": [
    "import numpy as np"
   ]
  },
  {
   "cell_type": "code",
   "execution_count": 2,
   "metadata": {},
   "outputs": [],
   "source": [
    "# DAG provided in appendix A\n",
    "dag = {\n",
    "    (0, 30), (1, 0), (2, 7), (3, 2), (4, 1), (5, 15), (6, 5), (7, 6), (8, 7), (9, 8), (10, 0), (11, 4), (12, 11), (13, 12), (16, 14), (14, 10), (15, 4), (16, 15), (17, 16), (18, 17), (19, 18), (20, 17), (21, 20), (22, 21), (23, 4), (24, 23), (25, 24), (26, 25), (27, 25), (28, 26), (28, 27), (29, 3), (29, 9),\n",
    "    (29, 13), (29, 19), (29, 22), (29, 28)\n",
    "}\n",
    "\n",
    "# processing times provided in Appendix A\n",
    "p = [3, 10, 2, 2, 5, 2, 14, 5, 6, 5, 5, 2, 3, 3, 5, 6, 6, 6, 2, 3, 2, 3, 14, 5, 18, 10, 2, 3, 6, 2, 10]\n",
    "\n",
    "# due dates provided in Appendix A\n",
    "d = [172, 82, 18, 61, 93, 71, 217, 295, 290, 287, 253, 307, 279, 73, 355, 34, 233, 77, 88, 122, 71, 181, 340, 141, 209, 217, 256, 144, 307, 329, 269]\n",
    "\n",
    "num_nodes = len(p)"
   ]
  },
  {
   "cell_type": "code",
   "execution_count": 3,
   "metadata": {},
   "outputs": [],
   "source": [
    "# Constructs an inverted graph by adjacency list and num_successors from a set of edges.\n",
    "def build_graph(edges):\n",
    "\n",
    "    inv_graph = dict()\n",
    "    num_successors = dict()\n",
    "    \n",
    "    for u, v in edges:\n",
    "        if u not in num_successors:\n",
    "            num_successors[u] = 0\n",
    "        if v not in num_successors:\n",
    "            num_successors[v] = 0\n",
    "\n",
    "        # Add nodes and edges to the graph\n",
    "        if v not in inv_graph: inv_graph[v] = []\n",
    "        inv_graph[v].append(u)\n",
    "        num_successors[u] += 1\n",
    "        \n",
    "    return inv_graph, num_successors\n",
    "\n",
    "# Calculates the tardiness giving a completion time and due date\n",
    "def tardiness(C, dd): return max(0, C-dd)\n",
    "    "
   ]
  },
  {
   "cell_type": "code",
   "execution_count": 28,
   "metadata": {},
   "outputs": [],
   "source": [
    "# Finds an optimal schedule according to LCL given a graph, processing times, and due dates\n",
    "def least_cost_last(dag, processing_times, due_dates):\n",
    "\n",
    "    # build adjacency list and track number of successors\n",
    "    inv_graph, num_successors = build_graph(dag)\n",
    "\n",
    "    schedule = []\n",
    "    total_processing_time = sum(processing_times)\n",
    "    total_cost = 0\n",
    "\n",
    "    # Jobs to be scheduled are ones with 0 successors\n",
    "    ready_to_schedule = {job for job in num_successors if num_successors[job] == 0}\n",
    "    count = 0\n",
    "    # While we have jobs to be scheduled left\n",
    "    while ready_to_schedule:\n",
    "        count += 1\n",
    "        # Choose the job with the min tardiness\n",
    "        last_job = min(ready_to_schedule, key=lambda j: tardiness(total_processing_time, due_dates[j]))\n",
    "\n",
    "        schedule.append(last_job)\n",
    "        total_cost = max(total_cost, tardiness(total_processing_time, due_dates[last_job]))\n",
    "        ready_to_schedule.remove(last_job)\n",
    "        total_processing_time -= processing_times[last_job]\n",
    "        \n",
    "        # If the job is a root in the graph\n",
    "        if last_job not in inv_graph: continue\n",
    "\n",
    "        for parent in inv_graph[last_job]:\n",
    "\n",
    "            # Decrement number of successors because we scheduled the job\n",
    "            num_successors[parent] -= 1\n",
    "\n",
    "            # If ready to be scheduled, add to list\n",
    "            if num_successors[parent] == 0:  \n",
    "                ready_to_schedule.add(parent)\n",
    "        if count in {1, 2, 5, 10, 15, 20, 25, 30}:\n",
    "            print('Iteration number {0}: Schedule is '.format(count), [1 + n for n in schedule[::-1]])\n",
    "    return [1 + n for n in schedule[::-1]], total_cost\n"
   ]
  },
  {
   "cell_type": "code",
   "execution_count": 29,
   "metadata": {},
   "outputs": [
    {
     "name": "stdout",
     "output_type": "stream",
     "text": [
      "Iteration number 1: Schedule is  [30]\n",
      "Iteration number 2: Schedule is  [0, 30]\n",
      "Iteration number 5: Schedule is  [1, 14, 10, 0, 30]\n",
      "Iteration number 10: Schedule is  [11, 25, 24, 23, 4, 1, 14, 10, 0, 30]\n",
      "Iteration number 15: Schedule is  [13, 28, 12, 27, 26, 11, 25, 24, 23, 4, 1, 14, 10, 0, 30]\n",
      "Iteration number 20: Schedule is  [19, 18, 17, 16, 15, 13, 28, 12, 27, 26, 11, 25, 24, 23, 4, 1, 14, 10, 0, 30]\n",
      "Iteration number 25: Schedule is  [7, 6, 21, 5, 20, 19, 18, 17, 16, 15, 13, 28, 12, 27, 26, 11, 25, 24, 23, 4, 1, 14, 10, 0, 30]\n",
      "Iteration number 30: Schedule is  [9, 8, 3, 2, 22, 7, 6, 21, 5, 20, 19, 18, 17, 16, 15, 13, 28, 12, 27, 26, 11, 25, 24, 23, 4, 1, 14, 10, 0, 30]\n"
     ]
    },
    {
     "data": {
      "text/plain": [
       "([30,\n",
       "  10,\n",
       "  9,\n",
       "  4,\n",
       "  3,\n",
       "  23,\n",
       "  8,\n",
       "  7,\n",
       "  22,\n",
       "  6,\n",
       "  21,\n",
       "  20,\n",
       "  19,\n",
       "  18,\n",
       "  17,\n",
       "  16,\n",
       "  14,\n",
       "  29,\n",
       "  13,\n",
       "  28,\n",
       "  27,\n",
       "  12,\n",
       "  26,\n",
       "  25,\n",
       "  24,\n",
       "  5,\n",
       "  2,\n",
       "  15,\n",
       "  11,\n",
       "  1,\n",
       "  31],\n",
       " 65)"
      ]
     },
     "execution_count": 29,
     "metadata": {},
     "output_type": "execute_result"
    }
   ],
   "source": [
    "least_cost_last(dag, p, d)"
   ]
  },
  {
   "cell_type": "code",
   "execution_count": null,
   "metadata": {},
   "outputs": [],
   "source": []
  }
 ],
 "metadata": {
  "kernelspec": {
   "display_name": "Python 3",
   "language": "python",
   "name": "python3"
  },
  "language_info": {
   "codemirror_mode": {
    "name": "ipython",
    "version": 3
   },
   "file_extension": ".py",
   "mimetype": "text/x-python",
   "name": "python",
   "nbconvert_exporter": "python",
   "pygments_lexer": "ipython3",
   "version": "3.9.6"
  }
 },
 "nbformat": 4,
 "nbformat_minor": 2
}
