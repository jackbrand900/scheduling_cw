{
 "cells": [
  {
   "cell_type": "code",
   "execution_count": 17,
   "metadata": {},
   "outputs": [],
   "source": [
    "import numpy as np"
   ]
  },
  {
   "cell_type": "code",
   "execution_count": 18,
   "metadata": {},
   "outputs": [],
   "source": [
    "# DAG provided in appendix A\n",
    "dag = {\n",
    "    (0, 30), (1, 0), (2, 7), (3, 2), (4, 1), (5, 15), (6, 5), (7, 6), (8, 7), (9, 8), (10, 0), (11, 4), (12, 11), (13, 12), (16, 14), (14, 10), (15, 4), (16, 15), (17, 16), (18, 17), (19, 18), (20, 17), (21, 20), (22, 21), (23, 4), (24, 23), (25, 24), (26, 25), (27, 25), (28, 26), (28, 27), (29, 3), (29, 9),\n",
    "    (29, 13), (29, 19), (29, 22), (29, 28)\n",
    "}\n",
    "\n",
    "# processing times provided in Appendix A\n",
    "p = [3, 10, 2, 2, 5, 2, 14, 5, 6, 5, 5, 2, 3, 3, 5, 6, 6, 6, 2, 3, 2, 3, 14, 5, 18, 10, 2, 3, 6, 2, 10]\n",
    "\n",
    "# due dates provided in Appendix A\n",
    "d = [172, 82, 18, 61, 93, 71, 217, 295, 290, 287, 253, 307, 279, 73, 355, 34, 233, 77, 88, 122, 71, 181, 340, 141, 209, 217, 256, 144, 307, 329, 269]\n",
    "\n",
    "num_nodes = len(p)"
   ]
  },
  {
   "cell_type": "code",
   "execution_count": 23,
   "metadata": {},
   "outputs": [],
   "source": [
    "star_line = \"*****************************************************************************************************************************************\\n\"\n",
    "\n",
    "# Constructs an inverted graph by adjacency list and num_successors from a set of edges.\n",
    "def build_graph(edges):\n",
    "\n",
    "    inv_graph = dict()\n",
    "    num_successors = dict()\n",
    "    \n",
    "    for u, v in edges:\n",
    "        if u not in num_successors:\n",
    "            num_successors[u] = 0\n",
    "        if v not in num_successors:\n",
    "            num_successors[v] = 0\n",
    "\n",
    "        # Add nodes and edges to the graph\n",
    "        if v not in inv_graph: inv_graph[v] = []\n",
    "        inv_graph[v].append(u)\n",
    "        num_successors[u] += 1\n",
    "        \n",
    "    return inv_graph, num_successors\n",
    "\n",
    "# Calculates the tardiness giving a completion time and due date\n",
    "def tardiness(C, dd): return max(0, C-dd)\n",
    "    "
   ]
  },
  {
   "cell_type": "code",
   "execution_count": 33,
   "metadata": {},
   "outputs": [],
   "source": [
    "# Finds an optimal schedule according to LCL given a graph, processing times, and due dates\n",
    "def least_cost_last(dag, processing_times, due_dates):\n",
    "\n",
    "    # build adjacency list and track number of successors\n",
    "    inv_graph, num_successors = build_graph(dag)\n",
    "\n",
    "    schedule = []\n",
    "    total_processing_time = sum(processing_times)\n",
    "    total_cost = 0\n",
    "\n",
    "    # Jobs to be scheduled are ones with 0 successors\n",
    "    ready_to_schedule = {job for job in num_successors if num_successors[job] == 0}\n",
    "    count = 0\n",
    "    printout = \"\"\n",
    "    # While we have jobs to be scheduled left\n",
    "    while ready_to_schedule:\n",
    "        count += 1\n",
    "        # Choose the job with the min tardiness\n",
    "        last_job = min(ready_to_schedule, key=lambda j: (tardiness(total_processing_time, due_dates[j]), j))\n",
    "\n",
    "        schedule.append(last_job)\n",
    "        total_cost = max(total_cost, tardiness(total_processing_time, due_dates[last_job]))\n",
    "        ready_to_schedule.remove(last_job)\n",
    "        total_processing_time -= processing_times[last_job]\n",
    "        \n",
    "        # If the job is a root in the graph\n",
    "        if last_job not in inv_graph: continue\n",
    "\n",
    "        for parent in inv_graph[last_job]:\n",
    "\n",
    "            # Decrement number of successors because we scheduled the job\n",
    "            num_successors[parent] -= 1\n",
    "\n",
    "            # If ready to be scheduled, add to list\n",
    "            if num_successors[parent] == 0:  \n",
    "                ready_to_schedule.add(parent)\n",
    "\n",
    "        if count in {1, 2, 5, 10, 15, 20, 25}:\n",
    "            print('Iteration number {0}: Schedule is '.format(count), [1 + n for n in schedule[::-1]])\n",
    "            print('Cost is', total_cost)\n",
    "            printout += 'Iteration number {0}: Schedule is '.format(count) + str([1 + n for n in schedule[::-1]]) + '\\n'\n",
    "            printout += 'Cost is ' + str(total_cost) +'\\n'\n",
    "            printout += star_line\n",
    "        \n",
    "    print('Final Schedule is ', [1 + n for n in schedule[::-1]])\n",
    "    printout += 'Final Schedule is ' + str([1 + n for n in schedule[::-1]]) + '\\n'\n",
    "    printout += 'Cost is ' + str(total_cost) +'\\n'\n",
    "    printout += star_line\n",
    "    \n",
    "    return [1 + n for n in schedule[::-1]], total_cost, printout"
   ]
  },
  {
   "cell_type": "code",
   "execution_count": 34,
   "metadata": {},
   "outputs": [
    {
     "name": "stdout",
     "output_type": "stream",
     "text": [
      "Iteration number 1: Schedule is  [31]\n",
      "Cost is 0\n",
      "Iteration number 2: Schedule is  [1, 31]\n",
      "Cost is 0\n",
      "Iteration number 5: Schedule is  [2, 15, 11, 1, 31]\n",
      "Cost is 65\n",
      "Iteration number 10: Schedule is  [25, 24, 13, 12, 5, 2, 15, 11, 1, 31]\n",
      "Cost is 65\n",
      "Iteration number 15: Schedule is  [14, 29, 28, 27, 26, 25, 24, 13, 12, 5, 2, 15, 11, 1, 31]\n",
      "Cost is 65\n",
      "Iteration number 20: Schedule is  [8, 7, 6, 17, 16, 14, 29, 28, 27, 26, 25, 24, 13, 12, 5, 2, 15, 11, 1, 31]\n",
      "Cost is 65\n",
      "Iteration number 25: Schedule is  [20, 19, 18, 10, 9, 8, 7, 6, 17, 16, 14, 29, 28, 27, 26, 25, 24, 13, 12, 5, 2, 15, 11, 1, 31]\n",
      "Cost is 65\n",
      "Final Schedule is  [30, 4, 3, 23, 22, 21, 20, 19, 18, 10, 9, 8, 7, 6, 17, 16, 14, 29, 28, 27, 26, 25, 24, 13, 12, 5, 2, 15, 11, 1, 31]\n",
      "Cost is 65\n"
     ]
    }
   ],
   "source": [
    "schedule, cost, printout = least_cost_last(dag, p, d)\n",
    "print('Cost is', cost)"
   ]
  },
  {
   "cell_type": "code",
   "execution_count": 35,
   "metadata": {},
   "outputs": [
    {
     "name": "stdout",
     "output_type": "stream",
     "text": [
      "Data has been written to printout_lcl.txt\n"
     ]
    }
   ],
   "source": [
    "with open(\"printout_lcl.txt\", \"w\") as file:\n",
    "    # Write some text to the file\n",
    "    file.write(\"This is a printout of the iterations for the Least Cost Last Rule\\n\")\n",
    "    file.write(star_line)\n",
    "    file.write(printout)\n",
    "\n",
    "print(\"Data has been written to printout_lcl.txt\")"
   ]
  },
  {
   "cell_type": "code",
   "execution_count": null,
   "metadata": {},
   "outputs": [],
   "source": []
  },
  {
   "cell_type": "code",
   "execution_count": null,
   "metadata": {},
   "outputs": [],
   "source": []
  }
 ],
 "metadata": {
  "kernelspec": {
   "display_name": "Python 3",
   "language": "python",
   "name": "python3"
  },
  "language_info": {
   "codemirror_mode": {
    "name": "ipython",
    "version": 3
   },
   "file_extension": ".py",
   "mimetype": "text/x-python",
   "name": "python",
   "nbconvert_exporter": "python",
   "pygments_lexer": "ipython3",
   "version": "3.9.6"
  }
 },
 "nbformat": 4,
 "nbformat_minor": 2
}
