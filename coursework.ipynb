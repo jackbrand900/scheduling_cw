{
 "cells": [
  {
   "metadata": {
    "ExecuteTime": {
     "end_time": "2024-11-24T02:05:22.675296Z",
     "start_time": "2024-11-24T02:05:22.568458Z"
    }
   },
   "cell_type": "code",
   "source": [
    "import numpy as np\n",
    "import matplotlib as plt"
   ],
   "id": "8cddf5f3775b4712",
   "outputs": [],
   "execution_count": 4
  },
  {
   "metadata": {
    "ExecuteTime": {
     "end_time": "2024-11-24T02:05:23.784Z",
     "start_time": "2024-11-24T02:05:23.776865Z"
    }
   },
   "cell_type": "code",
   "source": [
    "# DAG provided in appendix A\n",
    "dag = {\n",
    "    (0, 30): 1,\n",
    "    (1, 0): 1,\n",
    "    (2, 7): 1,\n",
    "    (3, 2): 1,\n",
    "    (4, 1): 1,\n",
    "    (5, 15): 1,\n",
    "    (6, 5): 1,\n",
    "    (7, 6): 1,\n",
    "    (8, 7): 1,\n",
    "    (9, 8): 1,\n",
    "    (10, 0): 1,\n",
    "    (11, 4): 1,\n",
    "    (12, 11): 1,\n",
    "    (13, 12): 1,\n",
    "    (16, 14): 1,\n",
    "    (14, 10): 1,\n",
    "    (15, 4): 1,\n",
    "    (16, 15): 1,\n",
    "    (17, 16): 1,\n",
    "    (18, 17): 1,\n",
    "    (19, 18): 1,\n",
    "    (20, 17): 1,\n",
    "    (21, 20): 1,\n",
    "    (22, 21): 1,\n",
    "    (23, 4): 1,\n",
    "    (24, 23): 1,\n",
    "    (25, 24): 1,\n",
    "    (26, 25): 1,\n",
    "    (27, 25): 1,\n",
    "    (28, 26): 1,\n",
    "    (28, 27): 1,\n",
    "    (29, 3): 1,\n",
    "    (29, 9): 1,\n",
    "    (29, 13): 1,\n",
    "    (29, 19): 1,\n",
    "    (29, 22): 1,\n",
    "    (29, 28): 1\n",
    "}\n",
    "\n",
    "# processing times provided in Appendix A\n",
    "p = [3, 10, 2, 2, 5, 2, 14, 5, 6, 5, 5, 2, 3, 3, 5, 6, 6, 6, 2, 3, 2, 3, 14, 5, 18, 10, 2, 3, 6, 2, 10]\n",
    "\n",
    "# due dates provided in Appendix A\n",
    "d = [172, 82, 18, 61, 93, 71, 217, 295, 290, 287, 253, 307, 279, 73, 355, 34,\n",
    "     233, 77, 88, 122, 71, 181, 340, 141, 209, 217, 256, 144, 307, 329, 269]"
   ],
   "id": "34c0683fd1c3df51",
   "outputs": [],
   "execution_count": 5
  },
  {
   "cell_type": "code",
   "execution_count": null,
   "id": "initial_id",
   "metadata": {
    "collapsed": true
   },
   "outputs": [],
   "source": [
    "def lcl_rule(dag, processing_times):\n",
    "    all_schedules = []\n",
    "    schedule = []\n",
    "    return schedule, all_schedules"
   ]
  },
  {
   "metadata": {},
   "cell_type": "code",
   "outputs": [],
   "execution_count": null,
   "source": [
    "def generate_neighboring_schedules(dag, schedule):\n",
    "    neighboring_schedule = []\n",
    "    return neighboring_schedule\n",
    "\n",
    "def tabu_search(dag, processing_times, due_dates, num_iterations=100, tolerance=10, tabu_list_length=20):\n",
    "    tabu_list = np.zeros(tabu_list_length)\n",
    "    schedule = []\n",
    "    total_tardiness = 0\n",
    "    return schedule, total_tardiness"
   ],
   "id": "8022e2c47ecbc32c"
  },
  {
   "metadata": {},
   "cell_type": "code",
   "outputs": [],
   "execution_count": null,
   "source": [
    "tolerances = [0, 5, 10, 50, 100, 200, 500]\n",
    "tabu_list_lengths = [5, 10, 20, 50, 100]\n",
    "num_iters = [10, 100, 1000, 5000]\n",
    "\n",
    "for tolerance in tolerances:\n",
    "    _, total_tardiness = tabu_search(dag, p, d, tolerance=tolerance)\n",
    "    # TODO: plot total tardiness vs tolerance\n",
    "    \n",
    "for tabu_len in tabu_list_lengths:\n",
    "    _, total_tardiness = tabu_search(dag, p, d, tabu_list_length=tabu_len)\n",
    "    # TODO: plot total tardiness vs tabu list length\n",
    "    \n",
    "for num_iter in num_iters:\n",
    "    _, total_tardiness = tabu_search(dag, p, d, num_iter=num_iter)\n",
    "    # TODO: plot total tardiness vs num iterations\n",
    "    "
   ],
   "id": "a9d4086ffbf3e478"
  }
 ],
 "metadata": {
  "kernelspec": {
   "display_name": "Python 3",
   "language": "python",
   "name": "python3"
  },
  "language_info": {
   "codemirror_mode": {
    "name": "ipython",
    "version": 2
   },
   "file_extension": ".py",
   "mimetype": "text/x-python",
   "name": "python",
   "nbconvert_exporter": "python",
   "pygments_lexer": "ipython2",
   "version": "2.7.6"
  }
 },
 "nbformat": 4,
 "nbformat_minor": 5
}
