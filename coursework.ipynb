{
 "cells": [
  {
   "metadata": {
    "ExecuteTime": {
     "end_time": "2024-11-25T15:29:37.342649Z",
     "start_time": "2024-11-25T15:29:36.316870Z"
    }
   },
   "cell_type": "code",
   "source": [
    "import numpy as np\n",
    "import matplotlib.pyplot as plt\n",
    "import random\n",
    "from collections import deque, defaultdict"
   ],
   "id": "8cddf5f3775b4712",
   "outputs": [],
   "execution_count": 2
  },
  {
   "metadata": {
    "ExecuteTime": {
     "end_time": "2024-11-25T16:52:14.790128Z",
     "start_time": "2024-11-25T16:52:14.781055Z"
    }
   },
   "cell_type": "code",
   "source": [
    "# DAG provided in appendix A\n",
    "dag = {\n",
    "    (1, 31), (2, 1), (3, 8), (4, 3), (5, 2), (6, 16), (7, 6), (8, 7), (9, 8), (10, 9), (11, 1), (12, 5), (13, 12), (14, 13), (15, 11), (16, 5), (17, 15), (17, 16), (18, 17), (19, 18), (20, 19), (21, 18), (22, 21), (23, 22), (24, 5), (25, 24), (26, 25), (27, 26), (28, 26), (29, 27), (29, 28), (30, 4), (30, 10), (30, 14), (30, 20), (30, 23), (30, 29)\n",
    "}\n",
    "\n",
    "# processing times provided in Appendix A\n",
    "p = [3, 10, 2, 2, 5, 2, 14, 5, 6, 5, 5, 2, 3, 3, 5, 6, 6, 6, 2, 3, 2, 3, 14, 5, 18, 10, 2, 3, 6, 2, 10]\n",
    "\n",
    "test_p = [1, 3, 5]\n",
    "\n",
    "# due dates provided in Appendix A\n",
    "d = [172, 82, 18, 61, 93, 71, 217, 295, 290, 287, 253, 307, 279, 73, 355, 34, 233, 77, 88, 122, 71, 181, 340, 141, 209, 217, 256, 144, 307, 329, 269]\n",
    "\n",
    "test_d = [4, 3, 6]\n",
    "\n",
    "num_nodes = len(p)\n",
    "\n",
    "# initial solution for tabu search algorithm for given DAG\n",
    "initial_solution = [30, 29, 23, 10, 9, 14, 13, 12, 4, 20, 22, 3, 27, 28, 8, 7, 19, 21, 26, 18, 25, 17, 15, 6, 24, 16, 5, 11, 2, 1, 31]"
   ],
   "id": "34c0683fd1c3df51",
   "outputs": [],
   "execution_count": 91
  },
  {
   "metadata": {
    "ExecuteTime": {
     "end_time": "2024-11-25T16:52:25.705940Z",
     "start_time": "2024-11-25T16:52:25.698613Z"
    }
   },
   "cell_type": "code",
   "source": [
    "# finding all nodes that a given node can reach either directly or transitively\n",
    "def get_all_reachable(dag):\n",
    "    reachable = set()\n",
    "    nodes = list(range(num_nodes))\n",
    "\n",
    "    # marking all nodes reached from a direct edge as reachable\n",
    "    for (u, v) in dag:\n",
    "        reachable.add((u, v))\n",
    "\n",
    "    # Floyd-Warshall algorithm\n",
    "    for i in nodes:\n",
    "        for j in nodes:\n",
    "            for k in nodes:\n",
    "                # transitive reachability, i.e. if i can reach j & j can reach k, i can reach k \n",
    "                if (i, j) in reachable and (j, k) in reachable:\n",
    "                    reachable.add((i, k))\n",
    "\n",
    "    return reachable\n",
    "\n",
    "reachable = get_all_reachable(dag)"
   ],
   "id": "2ea6e39f1c519bcb",
   "outputs": [],
   "execution_count": 92
  },
  {
   "metadata": {
    "ExecuteTime": {
     "end_time": "2024-11-25T15:58:40.483368Z",
     "start_time": "2024-11-25T15:58:40.478593Z"
    }
   },
   "cell_type": "code",
   "source": [
    "def generate_initial_solution(dag):\n",
    "    # generating an initial solution using a topical sort\n",
    "    num_edges_into_node = {}\n",
    "    all_nodes = set(list(range(num_nodes)))\n",
    "    \n",
    "    # initializing dictionary\n",
    "    for node in all_nodes:\n",
    "        num_edges_into_node[node] = 0\n",
    "    \n",
    "    for (u, v) in dag:\n",
    "        num_edges_into_node[v] += 1\n",
    "        \n",
    "    # finding all nodes with no edges into it\n",
    "    processing_queue = deque([node for node in all_nodes if num_edges_into_node[node] == 0])\n",
    "    initial_solution = []\n",
    "    while processing_queue:\n",
    "        node = processing_queue.popleft()\n",
    "        initial_solution.append(node)\n",
    "        \n",
    "        for (u, v) in dag:\n",
    "            if u == node:\n",
    "                num_edges_into_node[v] -= 1\n",
    "                if num_edges_into_node[v] == 0:\n",
    "                    processing_queue.append(v)\n",
    "    \n",
    "    does_contain_cycles = len(initial_solution) != len(all_nodes)\n",
    "    if not does_contain_cycles:\n",
    "        return initial_solution\n",
    "    else:\n",
    "        return [] # if there is a cycle, no way to do tabu search"
   ],
   "id": "61afd857eb9c1792",
   "outputs": [],
   "execution_count": 55
  },
  {
   "cell_type": "code",
   "id": "initial_id",
   "metadata": {
    "collapsed": true,
    "ExecuteTime": {
     "end_time": "2024-11-25T15:29:38.006059Z",
     "start_time": "2024-11-25T15:29:38.004309Z"
    }
   },
   "source": [
    "def lcl_rule(dag, processing_times):\n",
    "    all_schedules = []\n",
    "    schedule = []\n",
    "    return schedule, all_schedules"
   ],
   "outputs": [],
   "execution_count": 6
  },
  {
   "metadata": {
    "ExecuteTime": {
     "end_time": "2024-11-25T21:42:30.112873Z",
     "start_time": "2024-11-25T21:42:30.093733Z"
    }
   },
   "cell_type": "code",
   "source": [
    "# checking if we can swap two nodes at positions i, j in a schedule where i < j\n",
    "def is_valid_swap(job_i, job_j, reachable=reachable):\n",
    "    return (job_i, job_j) not in reachable and (job_j, job_i) not in reachable # if either u depends on v or v depends on u, cannot swap nodes\n",
    "\n",
    "def generate_neighboring_schedule(schedule, tabu_list, swap_index, reachable=reachable):\n",
    "    neighboring_schedule = []\n",
    "    step_counter = 0\n",
    "    \n",
    "    # random swapping neighbor generation, not restricted to adjacent jobs\n",
    "    # i_list = list(range(num_nodes))\n",
    "    # random.shuffle(i_list)\n",
    "    # j_list = list(range(num_nodes))\n",
    "    # random.shuffle(j_list)\n",
    "    # \n",
    "    # # shuffle lists so we don't overweight swaps early in schedule\n",
    "    # for i in i_list:\n",
    "    #     for j in j_list:\n",
    "    #         job_i, job_j = schedule[i], schedule[j]\n",
    "    #         if is_valid_swap(job_i, job_j, reachable) and (job_i, job_j) not in tabu_list:\n",
    "    #             neighboring_schedule = schedule[:]\n",
    "    #             neighboring_schedule[i], neighboring_schedule[j] = neighboring_schedule[j], neighboring_schedule[i]\n",
    "    #             return neighboring_schedule, (job_i, job_j), i\n",
    "    # \n",
    "    \n",
    "    for step_counter in range(len(schedule)):\n",
    "        i = (swap_index + step_counter) % (len(schedule) - 1)\n",
    "        j = (swap_index + step_counter + 1) % (len(schedule) - 1)\n",
    "        job_i, job_j = schedule[i], schedule[j]\n",
    "        if is_valid_swap(job_i, job_j, reachable) and (job_i, job_j) not in tabu_list and (job_j, job_i) not in tabu_list:\n",
    "            neighboring_schedule = schedule[:]\n",
    "            neighboring_schedule[i], neighboring_schedule[j] = neighboring_schedule[j], neighboring_schedule[i]\n",
    "            return neighboring_schedule, (job_i, job_j), i\n",
    "                \n",
    "    # if no valid neighbors, we are done            \n",
    "    return neighboring_schedule, (-1, -1), -1\n",
    "\n",
    "def evaluate_tardiness(schedule, p, d):\n",
    "    total_tardiness = 0\n",
    "    current_time = 0\n",
    "    \n",
    "    for job in schedule:\n",
    "        completion_time = current_time + p[job-1] # -1 because 0 indexing\n",
    "        tardiness = max(0, completion_time - d[job-1])\n",
    "        total_tardiness += tardiness\n",
    "        current_time = completion_time\n",
    "    \n",
    "    return total_tardiness\n",
    "\n",
    "def tabu_search(dag, p, d, num_iterations=100, tolerance=10, tabu_list_length=20, use_default_initial_solution=True, verbose=False):\n",
    "    # initializing parameters\n",
    "    tabu_list = deque(maxlen=tabu_list_length)\n",
    "    reachable = get_all_reachable(dag)\n",
    "    current_schedule = initial_solution if use_default_initial_solution else generate_initial_solution(dag)\n",
    "    current_tardiness = evaluate_tardiness(current_schedule, p, d)\n",
    "    best_schedule = current_schedule\n",
    "    best_tardiness = current_tardiness\n",
    "    new_swap_index = 0\n",
    "    swapped_i_for_iteration = set() # keeps track of all swap positions we have seen for a given iteration, if we see a repeat then end search\n",
    "    iteration = 0\n",
    "    while iteration < num_iterations:\n",
    "        neighbor_schedule, (job_i, job_j), recently_swapped_index = generate_neighboring_schedule(current_schedule, tabu_list, new_swap_index, reachable)\n",
    "        if verbose:\n",
    "            print(\"*******************************************************\")\n",
    "            print(f\"Iteration: {iteration}\")\n",
    "            print(f\"Neighbor: {neighbor_schedule}\")\n",
    "            print(f\"Swapped: {(job_i, job_j)}\")\n",
    "            print(f\"Tabu List: {tabu_list}\")\n",
    "            print(f\"Neighbor Tardiness: {evaluate_tardiness(neighbor_schedule, p, d)}\")\n",
    "\n",
    "        if not neighbor_schedule or recently_swapped_index in swapped_i_for_iteration: # if no valid neighbors or we have looked at all valid swaps with no candidates, we are done\n",
    "            return best_schedule, best_tardiness\n",
    "        \n",
    "        swapped_i_for_iteration.add(recently_swapped_index)\n",
    "        new_swap_index = recently_swapped_index + 1 # moving right one to not just swap job back\n",
    "        neighbor_tardiness = evaluate_tardiness(neighbor_schedule, p, d)\n",
    "        delta = current_tardiness - neighbor_tardiness\n",
    "        if delta > -1 * tolerance or neighbor_tardiness < best_tardiness:\n",
    "            current_schedule, current_tardiness = neighbor_schedule, neighbor_tardiness\n",
    "            tabu_list.append((job_i, job_j))\n",
    "            iteration += 1\n",
    "            swapped_i_for_iteration = set()\n",
    "            if current_tardiness < best_tardiness:\n",
    "                best_tardiness = current_tardiness\n",
    "                best_schedule = current_schedule\n",
    "    \n",
    "    return best_schedule, best_tardiness"
   ],
   "id": "8022e2c47ecbc32c",
   "outputs": [],
   "execution_count": 213
  },
  {
   "metadata": {
    "ExecuteTime": {
     "end_time": "2024-11-25T21:06:53.418617Z",
     "start_time": "2024-11-25T21:06:53.415969Z"
    }
   },
   "cell_type": "code",
   "source": [
    "initial_tardiness = evaluate_tardiness(initial_solution, p, d)\n",
    "print(initial_tardiness)"
   ],
   "id": "d688be0f56584eb6",
   "outputs": [
    {
     "name": "stdout",
     "output_type": "stream",
     "text": [
      "341\n"
     ]
    }
   ],
   "execution_count": 161
  },
  {
   "metadata": {
    "ExecuteTime": {
     "end_time": "2024-11-25T21:43:41.786697Z",
     "start_time": "2024-11-25T21:43:41.775340Z"
    }
   },
   "cell_type": "code",
   "source": [
    "best_schedule, best_tardiness = tabu_search(dag, p, d)\n",
    "print(best_tardiness)\n",
    "print(best_schedule)"
   ],
   "id": "ce2987296ea03330",
   "outputs": [
    {
     "name": "stdout",
     "output_type": "stream",
     "text": [
      "226\n",
      "[30, 14, 4, 20, 23, 3, 13, 29, 28, 10, 9, 19, 8, 22, 21, 18, 17, 15, 7, 6, 16, 27, 11, 26, 25, 24, 12, 5, 2, 1, 31]\n"
     ]
    }
   ],
   "execution_count": 221
  },
  {
   "metadata": {
    "ExecuteTime": {
     "end_time": "2024-11-25T15:32:24.959319Z",
     "start_time": "2024-11-25T15:32:24.956585Z"
    }
   },
   "cell_type": "code",
   "source": [
    "print(generate_initial_solution(dag))\n",
    "print(initial_solution)"
   ],
   "id": "c2c0edebb2cabfbf",
   "outputs": [
    {
     "name": "stdout",
     "output_type": "stream",
     "text": [
      "[29, 13, 19, 22, 28, 3, 9, 12, 18, 21, 27, 26, 2, 8, 11, 20, 25, 7, 17, 24, 6, 16, 23, 5, 14, 15, 10, 4, 1, 0, 30]\n",
      "[29, 28, 22, 9, 8, 13, 12, 11, 3, 19, 21, 2, 26, 27, 7, 6, 18, 20, 25, 17, 24, 16, 14, 5, 23, 15, 4, 10, 1, 0, 30]\n"
     ]
    }
   ],
   "execution_count": 16
  },
  {
   "metadata": {
    "ExecuteTime": {
     "end_time": "2024-11-25T21:43:51.838218Z",
     "start_time": "2024-11-25T21:43:51.835741Z"
    }
   },
   "cell_type": "code",
   "source": [
    "tolerances = [0, 3, 5, 10, 15, 20, 50]\n",
    "tabu_list_lengths = [5, 10, 20, 50, 100]\n",
    "num_iters = [10, 100, 1000, 5000, 10000]\n",
    "samples_to_test = 1"
   ],
   "id": "fd74f158eb977f82",
   "outputs": [],
   "execution_count": 222
  },
  {
   "metadata": {
    "ExecuteTime": {
     "end_time": "2024-11-25T21:43:54.392200Z",
     "start_time": "2024-11-25T21:43:54.197918Z"
    }
   },
   "cell_type": "code",
   "source": [
    "mean_tardiness_at_tolerance = []\n",
    "std_deviation_tardiness_at_tolerance = []\n",
    "for tolerance in tolerances:\n",
    "    best_outcomes = []\n",
    "    for _ in range(samples_to_test):\n",
    "        _, best_tardiness = tabu_search(dag, p, d, tolerance=tolerance)\n",
    "        best_outcomes.append(best_tardiness)\n",
    "    mean_tardiness_at_tolerance.append(np.array(best_outcomes).mean())\n",
    "    \n",
    "plt.figure(figsize=(8, 6))\n",
    "plt.plot(tolerances, mean_tardiness_at_tolerance, marker='o', color='b', label=\"Tardiness\")\n",
    "means = np.array(mean_tardiness_at_tolerance)\n",
    "\n",
    "# Add labels and title\n",
    "plt.xlabel('Tolerance')\n",
    "plt.ylabel('Tardiness')\n",
    "plt.title('Tardiness vs Tolerance (K = 100, L = 20)')\n",
    "\n",
    "plt.grid(True)\n",
    "plt.legend()\n",
    "plt.show()"
   ],
   "id": "54375a678a8b05cf",
   "outputs": [
    {
     "data": {
      "text/plain": [
       "<Figure size 800x600 with 1 Axes>"
      ],
      "image/png": "[encoded data removed]"
     },
     "metadata": {},
     "output_type": "display_data"
    }
   ],
   "execution_count": 223
  },
  {
   "metadata": {},
   "cell_type": "code",
   "outputs": [],
   "execution_count": null,
   "source": [
    "for tabu_len in tabu_list_lengths:\n",
    "    _, best_tardiness = tabu_search(dag, p, d, tabu_list_length=tabu_len)\n",
    "    # TODO: plot total tardiness vs tabu list length\n",
    "    "
   ],
   "id": "47daff43966eb3b3"
  },
  {
   "metadata": {
    "ExecuteTime": {
     "end_time": "2024-11-25T21:43:59.256400Z",
     "start_time": "2024-11-25T21:43:58.867749Z"
    }
   },
   "cell_type": "code",
   "source": [
    "mean_tardiness_at_iter = []\n",
    "std_deviation_tardiness_at_iter = []\n",
    "for iter in num_iters:\n",
    "    best_outcomes = []\n",
    "    for _ in range(samples_to_test):\n",
    "        _, best_tardiness = tabu_search(dag, p, d, num_iterations=iter)\n",
    "        best_outcomes.append(best_tardiness)\n",
    "    mean_tardiness_at_iter.append(np.array(best_outcomes).mean())\n",
    "\n",
    "plt.figure(figsize=(8, 6))\n",
    "plt.plot(num_iters, mean_tardiness_at_iter, marker='o', color='b', label=\"Tardiness\")\n",
    "means = np.array(mean_tardiness_at_iter)\n",
    "\n",
    "# Add labels and title\n",
    "plt.xlabel('Iterations')\n",
    "plt.ylabel('Tardiness')\n",
    "plt.title('Tardiness vs Iterations (Tolerance = 10, L = 20)')\n",
    "\n",
    "plt.grid(True)\n",
    "plt.legend()\n",
    "plt.show()"
   ],
   "id": "a9d4086ffbf3e478",
   "outputs": [
    {
     "data": {
      "text/plain": [
       "<Figure size 800x600 with 1 Axes>"
      ],
      "image/png": "[encoded data removed]"
     },
     "metadata": {},
     "output_type": "display_data"
    }
   ],
   "execution_count": 224
  },
  {
   "metadata": {},
   "cell_type": "code",
   "outputs": [],
   "execution_count": null,
   "source": "",
   "id": "d8b8aab15433c18a"
  }
 ],
 "metadata": {
  "kernelspec": {
   "display_name": "Python 3",
   "language": "python",
   "name": "python3"
  },
  "language_info": {
   "codemirror_mode": {
    "name": "ipython",
    "version": 2
   },
   "file_extension": ".py",
   "mimetype": "text/x-python",
   "name": "python",
   "nbconvert_exporter": "python",
   "pygments_lexer": "ipython2",
   "version": "2.7.6"
  }
 },
 "nbformat": 4,
 "nbformat_minor": 5
}
